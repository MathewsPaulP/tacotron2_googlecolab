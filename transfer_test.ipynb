{
  "nbformat": 4,
  "nbformat_minor": 0,
  "metadata": {
    "accelerator": "GPU",
    "colab": {
      "name": "transfer_test.ipynb",
      "provenance": [],
      "collapsed_sections": []
    },
    "kernelspec": {
      "display_name": "Python 3",
      "name": "python3"
    },
    "language_info": {
      "name": "python"
    }
  },
  "cells": [
    {
      "cell_type": "markdown",
      "metadata": {
        "id": "z2jHhpc9L6cL"
      },
      "source": [
        "# Setup Code"
      ]
    },
    {
      "cell_type": "code",
      "metadata": {
        "id": "2Asu9Wicvqbc"
      },
      "source": [
        "# Only needed for setup\n",
        "# Creates directory for experiment\n",
        "%cd '/content/drive/'\n",
        "import os\n",
        "if not os.path.exists('My Drive/disso/'):\n",
        "    os.makedirs('My Drive/disso/')\n",
        "else:\n",
        "    print(\"\\nDirectory already exists\")"
      ],
      "execution_count": null,
      "outputs": []
    },
    {
      "cell_type": "code",
      "metadata": {
        "id": "s7KZbKEjw4JZ"
      },
      "source": [
        "# Only need to run for setup\n",
        "# Clones tacotron2 repository\n",
        "%cd '/content/drive/My Drive/disso/'\n",
        "!git clone https://github.com/NVIDIA/tacotron2.git\n",
        "\n",
        "%cd '/content/drive/My Drive/disso/tacotron2'\n",
        "!git fetch --all\n",
        "!git reset --hard origin/master\n",
        "\n",
        "# installs WaveGlow\n",
        "!git submodule init\n",
        "!git submodule update"
      ],
      "execution_count": null,
      "outputs": []
    },
    {
      "cell_type": "code",
      "metadata": {
        "id": "KTwh7gFqFcM6"
      },
      "source": [
        "# Only need to run for setup\n",
        "# verifies and updates WaveGlow\n",
        "%cd \"/content/drive/My Drive/disso/tacotron2/waveglow\"\n",
        "!git submodule init\n",
        "!git submodule update\n",
        "!git fetch --all\n",
        "!git reset --hard origin/master"
      ],
      "execution_count": null,
      "outputs": []
    },
    {
      "cell_type": "markdown",
      "metadata": {
        "id": "gPOSAZ88NKax"
      },
      "source": [
        "# Runtime Code"
      ]
    },
    {
      "cell_type": "code",
      "metadata": {
        "id": "xkeS3YJdusAW"
      },
      "source": [
        "!nvidia-smi -L\n",
        "#P100 or V100 needed\n",
        "#T4, P4, k80 slow"
      ],
      "execution_count": null,
      "outputs": []
    },
    {
      "cell_type": "code",
      "metadata": {
        "id": "lB6KtI4Y6EuN"
      },
      "source": [
        "# # only needed for gpu stats\n",
        "# !ln -sf /opt/bin/nvidia-smi /usr/bin/nvidia-smi\n",
        "# !pip install gputil\n",
        "# !pip install psutil\n",
        "# !pip install humanize"
      ],
      "execution_count": 2,
      "outputs": []
    },
    {
      "cell_type": "code",
      "metadata": {
        "id": "bgSdZA_l5K4J"
      },
      "source": [
        "# # GPU stats\n",
        "# import psutil\n",
        "# import humanize\n",
        "# import os\n",
        "# import GPUtil as GPU\n",
        "# GPUs = GPU.getGPUs()\n",
        "# # XXX: only one GPU on Colab and isn’t guaranteed\n",
        "# gpu = GPUs[0]\n",
        "# def printm():\n",
        "#  process = psutil.Process(os.getpid())\n",
        "#  print(\"Gen RAM Free: \" + humanize.naturalsize( psutil.virtual_memory().available ), \" | Proc size: \" + humanize.naturalsize( process.memory_info().rss))\n",
        "#  print(\"GPU RAM Free: {0:.0f}MB | Used: {1:.0f}MB | Util {2:3.0f}% | Total {3:.0f}MB\".format(gpu.memoryFree, gpu.memoryUsed, gpu.memoryUtil*100, gpu.memoryTotal))\n",
        "# printm()"
      ],
      "execution_count": 3,
      "outputs": []
    },
    {
      "cell_type": "code",
      "metadata": {
        "id": "BDj86h0qAGDY"
      },
      "source": [
        "# Execute before each run time\n",
        "# Installs requirements\n",
        "%cd \"/content/drive/My Drive/disso/tacotron2\"\n",
        "!apt-get install sox\n",
        "!pip install -r requirements.txt"
      ],
      "execution_count": null,
      "outputs": []
    },
    {
      "cell_type": "code",
      "metadata": {
        "id": "yBcp6n8QRkEF"
      },
      "source": [
        "!pip install numba==0.48"
      ],
      "execution_count": null,
      "outputs": []
    },
    {
      "cell_type": "markdown",
      "metadata": {
        "id": "A8OQPAxx2Qu5"
      },
      "source": [
        "# tacotron2 training"
      ]
    },
    {
      "cell_type": "code",
      "metadata": {
        "id": "jz2DIPTkxN5l"
      },
      "source": [
        "# Code for training models\n",
        "%cd \"/content/drive/My Drive/disso/tacotron2\"\n",
        "!python train.py --output_directory=outdir --log_directory=logdir -c outdir/checkpoint_8000 --warm_start\n",
        "# for starting from a checkpoint, -c 'chk_point' --warm_start\n",
        "# change directory of checkpoint as required"
      ],
      "execution_count": null,
      "outputs": []
    },
    {
      "cell_type": "markdown",
      "metadata": {
        "id": "HN0vJGVyDbha"
      },
      "source": [
        "37k+ warm start cori, 18k+ phil"
      ]
    },
    {
      "cell_type": "markdown",
      "metadata": {
        "id": "JIdewzrWlFXL"
      },
      "source": [
        "# tensorboard for monitoring training"
      ]
    },
    {
      "cell_type": "code",
      "metadata": {
        "id": "mDDBJIae1L-_"
      },
      "source": [
        "# Lauches a tensorboard to view training progress\n",
        "%load_ext tensorboard\n",
        "import tensorflow as tf\n",
        "import datetime, os\n",
        "%cd \"/content/drive/My Drive/disso/tacotron2\"\n",
        "%tensorboard --logdir=outdir/logdir\n",
        "# Change directory of logs as required"
      ],
      "execution_count": null,
      "outputs": []
    },
    {
      "cell_type": "markdown",
      "metadata": {
        "id": "meTaDMiF4luY"
      },
      "source": [
        "# audio files processing"
      ]
    },
    {
      "cell_type": "code",
      "metadata": {
        "id": "3Z6NKiJHFk54"
      },
      "source": [
        "# #run this cell to extract tar files\n",
        "# #code to unzip your tar audio files, change directories as required\n",
        "# !tar -xvf \"/content/drive/My Drive/files/audio.tar\" -C \"/content/drive/My Drive/test/\"    "
      ],
      "execution_count": null,
      "outputs": []
    },
    {
      "cell_type": "code",
      "metadata": {
        "id": "ttWEWTwbYZ5g"
      },
      "source": [
        "pip install wavio"
      ],
      "execution_count": null,
      "outputs": []
    },
    {
      "cell_type": "code",
      "metadata": {
        "id": "vcw5hkFlBaKT"
      },
      "source": [
        "# creates list of audio files to convert sample rate\n",
        "# repeat for all directories containing audio files\n",
        "# change directories as required\n",
        "import os\n",
        "wav_list=[]\n",
        "for root,dirs,files in os.walk('/content/drive/My Drive/disso/tacotron2/audio/6097_clean/15326/'):\n",
        "  for file in files:\n",
        "    # change .flac to .wav for wav files with different sr\n",
        "    if file.endswith('.flac'):\n",
        "      wav_list.append(file)\n",
        "#print(len(wav_list))"
      ],
      "execution_count": null,
      "outputs": []
    },
    {
      "cell_type": "code",
      "metadata": {
        "id": "ahsksfsmDa-b"
      },
      "source": [
        "# only used initially to correct the sample rate of files to example sr\n",
        "# change directories as required\n",
        "\n",
        "%cd \"/content/drive/My Drive/disso/tacotron2/audio/6097_clean/15326/\"\n",
        "import wavio\n",
        "import soundfile as sf\n",
        "import librosa\n",
        "from tqdm import tqdm   \n",
        "for i in tqdm(wav_list):\n",
        "  y, s = librosa.load(i, sr=22050)\n",
        "  wavio.write('/content/drive/My Drive/disso/tacotron2/audio/6097_clean/15326/'+i[:-5]+'.wav', y, 22050,sampwidth=2)\n",
        "  #sf.write('/content/drive/My Drive/disso/tacotron2/audio/6097_clean/9575/'+i[:-5]+'.wav', y, 22050)\n",
        "# Use either wavio or sf depending on system limitations"
      ],
      "execution_count": null,
      "outputs": []
    },
    {
      "cell_type": "code",
      "metadata": {
        "id": "Ypb55NxWA2lP"
      },
      "source": [
        "# #removes unnecessary files, only required if the source file is non-wav\n",
        "# %cd \"/content/drive/My Drive/disso/tacotron2/audio/6097_clean/15326\"\n",
        "# for i in tqdm(wav_list):\n",
        "#   %rm \"$i\""
      ],
      "execution_count": null,
      "outputs": []
    },
    {
      "cell_type": "markdown",
      "metadata": {
        "id": "iP-vH7x9K2-q"
      },
      "source": [
        "# padding"
      ]
    },
    {
      "cell_type": "code",
      "metadata": {
        "id": "QdxpFJUgaQf1"
      },
      "source": [
        "!sudo apt-get install sox"
      ],
      "execution_count": null,
      "outputs": []
    },
    {
      "cell_type": "code",
      "metadata": {
        "id": "PpxKKUqMD9Z4"
      },
      "source": [
        "# #change directory here as required\n",
        "%cd \"/content/drive/My Drive/disso/tacotron2/audio/6097_clean/15326\""
      ],
      "execution_count": null,
      "outputs": []
    },
    {
      "cell_type": "code",
      "metadata": {
        "id": "38k-SMQfD963"
      },
      "source": [
        "# batch process to remove silence from the start of files and to add silences at the end for padding\n",
        "%%bash\n",
        "\n",
        "for file in *.wav; do\n",
        "    cp \"$file\" \"tmp.wav\";\n",
        "    sox -q \"tmp.wav\" \"$file\" pad .2 .2 silence 1 0.1 0.1% reverse silence 1 0.1 0.1% reverse;\n",
        "done"
      ],
      "execution_count": null,
      "outputs": []
    },
    {
      "cell_type": "code",
      "metadata": {
        "id": "n60XiZNFD_10"
      },
      "source": [
        "%rm tmp.wav"
      ],
      "execution_count": null,
      "outputs": []
    },
    {
      "cell_type": "markdown",
      "metadata": {
        "id": "3l-2MyUC2EeI"
      },
      "source": [
        "# Audio synthesis test"
      ]
    },
    {
      "cell_type": "code",
      "metadata": {
        "id": "znkg8FpoTHL7"
      },
      "source": [
        "# Only required if a unidecode error appears\n",
        "!pip install unidecode"
      ],
      "execution_count": null,
      "outputs": []
    },
    {
      "cell_type": "markdown",
      "metadata": {
        "id": "W-0XBf-gCQCw"
      },
      "source": [
        "#### Import libraries and setup matplotlib"
      ]
    },
    {
      "cell_type": "code",
      "metadata": {
        "id": "UHkuQQaiCQCx",
        "colab": {
          "base_uri": "https://localhost:8080/"
        },
        "outputId": "c2334517-5257-4209-808f-8a1efdbb7da8"
      },
      "source": [
        "%cd \"/content/drive/My Drive/disso/tacotron2\"\n",
        "\n",
        "import matplotlib\n",
        "%matplotlib inline\n",
        "import matplotlib.pylab as plt\n",
        "\n",
        "import IPython.display as ipd\n",
        "\n",
        "import sys\n",
        "sys.path.append('waveglow/')\n",
        "import numpy as np\n",
        "import torch\n",
        "\n",
        "from hparams import create_hparams\n",
        "from model import Tacotron2\n",
        "from layers import TacotronSTFT, STFT\n",
        "from audio_processing import griffin_lim\n",
        "from train import load_model\n",
        "from text import text_to_sequence\n",
        "%cd \"/content/drive/My Drive/disso/tacotron2/waveglow\"\n",
        "from denoiser import Denoiser"
      ],
      "execution_count": 2,
      "outputs": [
        {
          "output_type": "stream",
          "name": "stdout",
          "text": [
            "/content/drive/My Drive/disso/tacotron2\n",
            "/content/drive/My Drive/disso/tacotron2/waveglow\n"
          ]
        }
      ]
    },
    {
      "cell_type": "code",
      "metadata": {
        "id": "YCqzgP_KCQCz"
      },
      "source": [
        "# plot function to view mel outputs\n",
        "def plot_data(data, figsize=(16, 4)):\n",
        "    fig, axes = plt.subplots(1, len(data), figsize=figsize)\n",
        "    for i in range(len(data)):\n",
        "        axes[i].imshow(data[i], aspect='auto', origin='bottom', \n",
        "                       interpolation='none')"
      ],
      "execution_count": 3,
      "outputs": []
    },
    {
      "cell_type": "markdown",
      "metadata": {
        "id": "pIwYpDDDCQCz"
      },
      "source": [
        "#### Setup hparams"
      ]
    },
    {
      "cell_type": "code",
      "metadata": {
        "id": "B2EQRgRXCQC0"
      },
      "source": [
        "# initiates hyper parameters\n",
        "hparams = create_hparams()\n",
        "hparams.sampling_rate = 22050"
      ],
      "execution_count": null,
      "outputs": []
    },
    {
      "cell_type": "markdown",
      "metadata": {
        "id": "nOurjOZWCQC0"
      },
      "source": [
        "#### Load model from checkpoint"
      ]
    },
    {
      "cell_type": "code",
      "metadata": {
        "id": "8tQQ8MlYCQC1"
      },
      "source": [
        "# chage path to the desired checkpoint\n",
        "%cd \"/content/drive/My Drive/disso/tacotron2/outdir\"\n",
        "checkpoint_path = 'warm_start/10000'\n",
        "model = load_model(hparams)\n",
        "model.load_state_dict(torch.load(checkpoint_path)['state_dict'])\n",
        "_ = model.cuda().eval().half()"
      ],
      "execution_count": null,
      "outputs": []
    },
    {
      "cell_type": "markdown",
      "metadata": {
        "id": "yg4S0TviCQC2"
      },
      "source": [
        "#### Load WaveGlow for mel2audio synthesis and denoiser"
      ]
    },
    {
      "cell_type": "code",
      "metadata": {
        "id": "gZ6hy1eZCQC4"
      },
      "source": [
        "# loads and primes WaveGlow model\n",
        "%cd \"/content/drive/My Drive/disso/tacotron2\"\n",
        "waveglow_path = '/content/drive/My Drive/Disso_package/files/waveglow_256channels_universal_v5.pt'\n",
        "waveglow = torch.load(waveglow_path)['model']\n",
        "waveglow.cuda().eval().half()\n",
        "for k in waveglow.convinv:\n",
        "    k.float()\n",
        "denoiser = Denoiser(waveglow)"
      ],
      "execution_count": null,
      "outputs": []
    },
    {
      "cell_type": "markdown",
      "metadata": {
        "id": "bXvDnZAjCQC4"
      },
      "source": [
        "#### Prepare text input"
      ]
    },
    {
      "cell_type": "code",
      "metadata": {
        "id": "uKCcQWslCQC4"
      },
      "source": [
        "# Input text to be vocalised into audio\n",
        "# Change as required\n",
        "text = \"HELLO! I WAS CREATED TO TEST THE EFFECT OF TRANSFER LEARNING ON AUTOMATED AUDIO SYNTHESIS. CHANGE THIS TEXT TO TEST ME\"\n",
        "sequence = np.array(text_to_sequence(text, ['english_cleaners']))[None, :]\n",
        "sequence = torch.autograd.Variable(\n",
        "    torch.from_numpy(sequence)).cuda().long()"
      ],
      "execution_count": 19,
      "outputs": []
    },
    {
      "cell_type": "markdown",
      "metadata": {
        "id": "L8IQ1VkiCQC5"
      },
      "source": [
        "#### Decode text input and plot results"
      ]
    },
    {
      "cell_type": "code",
      "metadata": {
        "scrolled": true,
        "id": "tVzbBeWTCQC5"
      },
      "source": [
        "# Displays mel spectrum outputs and alignment\n",
        "mel_outputs, mel_outputs_postnet, _, alignments = model.inference(sequence)\n",
        "plot_data((mel_outputs.float().data.cpu().numpy()[0],\n",
        "           mel_outputs_postnet.float().data.cpu().numpy()[0],\n",
        "           alignments.float().data.cpu().numpy()[0].T))"
      ],
      "execution_count": 20,
      "outputs": []
    },
    {
      "cell_type": "markdown",
      "metadata": {
        "id": "Z5GcZaK2CQC6"
      },
      "source": [
        "#### Synthesize audio from spectrogram using WaveGlow"
      ]
    },
    {
      "cell_type": "code",
      "metadata": {
        "id": "Y33s98OaCQC6"
      },
      "source": [
        "# Produces raw audio\n",
        "with torch.no_grad():\n",
        "    audio = waveglow.infer(mel_outputs_postnet, sigma=1)\n",
        "ipd.Audio(audio[0].data.cpu().numpy(), rate=hparams.sampling_rate)"
      ],
      "execution_count": null,
      "outputs": []
    },
    {
      "cell_type": "markdown",
      "metadata": {
        "id": "KZfoF2s3CQC6"
      },
      "source": [
        "#### (Optional) Remove WaveGlow bias"
      ]
    },
    {
      "cell_type": "code",
      "metadata": {
        "id": "9nC7rLwDCQC6"
      },
      "source": [
        "# Denoises the raw audio\n",
        "audio_denoised = denoiser(audio, strength=0.005)[:, 0]\n",
        "ipd.Audio(audio_denoised.cpu().numpy(), rate=hparams.sampling_rate) "
      ],
      "execution_count": null,
      "outputs": []
    }
  ]
}